{
 "cells": [
  {
   "cell_type": "markdown",
   "metadata": {},
   "source": [
    "# Instrucciones:\n",
    "    \n",
    "Esta evaluación consta de una serie de preguntas que evalúan tu comprensión y habilidades en relación con funciones, clases y regex.\n",
    "\n",
    "Tiempo asignado: 2 horas y 40 minutos.\n",
    "\n",
    "Puedes usar recursos externos, incluyendo internet y materiales de referencia o tus propias notas.\n",
    "\n",
    "Completa los ejercicios en un jupyter notebook.\n",
    "\n",
    "Entrega: Tienes que crearte un repositorio en la organización de Adalab que tenga el siguiente nombre promo-X-DA-modulo1-evaluacion-final-vuestronombre."
   ]
  },
  {
   "cell_type": "markdown",
   "metadata": {},
   "source": [
    "# EJERCICIO"
   ]
  },
  {
   "cell_type": "markdown",
   "metadata": {},
   "source": [
    "A lo largo de esta evaluación tendrás que crear una clase llamada TiendaOnline que cumpla los siguientes requisitos:\n",
    "\n",
    "## La clase TiendaOnline debe tener los siguientes atributos:\n",
    " ### 1) inventario (lista de diccionarios):\n",
    "Un atributo para almacenar los productos en el inventario. \n",
    "    \n",
    "Cada producto debe ser representado como un diccionario con las siguientes claves: \n",
    "    \n",
    "    'nombre', 'precio', y 'cantidad'. \n",
    "    \n",
    "Al principio deberá ser una lista vacía.\n",
    "    \n",
    "Ejemplo de como debería ser:\n",
    "\n",
    "    [{'nombre': 'Camisa', 'precio': 20, 'cantidad': 40},\n",
    "    \n",
    "    {'nombre': 'Pantalón', 'precio': 30, 'cantidad': 30}]\n",
    " ### 2)  clientes (diccionario):\n",
    "Un atributo para llevar un registro de los clientes de la tienda.\n",
    "    \n",
    "Cada cliente debe ser representado como un diccionario con las siguientes claves:\n",
    "\n",
    "    'nombre' y 'email'.    \n",
    "Al inicio deberá ser un diccionario vacío.\n",
    "    \n",
    "Además, cada cliente debe tener un historial de compras.\n",
    "    \n",
    "Deberá parecerse a:\n",
    "\n",
    "    {'Cliente1': {'email': 'cliente1@email.com', 'compras': []},\n",
    "    'Cliente2': {'email': 'cliente2@email.com', 'compras': []}}\n",
    "### 3) ventas_totales (float): \n",
    "Un atributo para llevar un registro de las ventas totales de la tienda.\n",
    "+ Inicializalo con valor 0.\n",
    "## La clase TiendaOnline debe tener los siguientes métodos:\n",
    "\n",
    "### 1) agregar_producto(self, nombre, precio, cantidad):\n",
    "Este método agrega un producto al inventario o actualiza su cantidad si ya existe. \n",
    "\n",
    "Debe recibir el nombre, precio y cantidad del producto como parámetros.\n",
    "+ Itera a través del inventario y compara los nombres de los productos con el nombre proporcionado.\n",
    "+ Si el producto ya existe, actualiza la cantidad.\n",
    "+ Si no existe, agrega un nuevo producto al inventario.\n",
    "### 2) ver_inventario(self): Muestra el inventario de productos con sus detalles.\n",
    "+ Utiliza un bucle for para recorrer el inventario.\n",
    "+ Imprime los detalles (nombre, precio, cantidad) de cada producto.\n",
    "+ Debería verse:\n",
    "\n",
    "        Nombre: Camisa, Precio: $20, Cantidad: 50\n",
    "        Nombre: Pantalón, Precio: $30, Cantidad: 30\n",
    "        Nombre: Zapatos, Precio: $50, Cantidad: 40\n",
    "        Nombre: Camisa, Precio: $20, Cantidad: 50\n",
    "### 3) buscar_producto(self, nombre):\n",
    "Busca un producto en el inventario por nombre y muestra sus detalles si se encuentra.\n",
    "\n",
    "Debe recibir el nombre del producto como parámetro.\n",
    "+ Utiliza un bucle for para recorrer el inventario.\n",
    "+ Compara los nombres de los productos con el nombre proporcionado.\n",
    "+ Si se encuentra el producto, imprime sus detalles.\n",
    "+ Debe mostrar:\n",
    "\n",
    "        Nombre: Camisa, Precio: $20, Cantidad: 40\n",
    "### 4) actualizar_stock(self, nombre, cantidad):\n",
    "Actualiza el stock de un producto en el inventario. \n",
    "\n",
    "Debe recibir el nombre del producto y la cantidad a agregar o quitar como parámetros.\n",
    "+ Utiliza un bucle for para recorrer el inventario.\n",
    "+ Busca el producto por nombre.\n",
    "+ Actualiza la cantidad según la entrada del usuario.\n",
    "+ Si el producto no esta en el inventario muestra un mensaje indicándolo.\n",
    "### 5) eliminar_producto(self, nombre):\n",
    "Elimina un producto del inventario por nombre.\n",
    "\n",
    "Debe recibir el nombre del producto como parámetro.\n",
    "+ Utiliza un bucle for para recorrer el inventario.\n",
    "+ Busca el producto por nombre.\n",
    "+ Elimina el producto del inventario si existe.\n",
    "+ Si el producto no esta en el inventario muestra un mensaje indicándolo.\n",
    "### 6) calcular_valor_inventario(self):\n",
    "Calcula y muestra el valor total del inventario.\n",
    "+ Utiliza un bucle for para calcular el valor total del inventario.\n",
    "+ Itera a través del inventario y suma el valor de cada producto (precio x cantidad). Es decir, calcula el valor total del inventario.\n",
    "Ejemplo:\n",
    "   + si tenemos 5 camisas que valen 5 euros \n",
    "   + y 10 calcetines que valen 1 euro\n",
    "   + este método te tiene que devolver: 35 euros\n",
    "        + valor_camisas = 5 * 5\n",
    "        + valor_calcetines = 10 * 1\n",
    "        + valor_camisas + valor_calcetines = 35\n",
    "\n",
    "### 7) buscar_producto_regex(self, patron):\n",
    "Busca productos en el inventario que coincidan con un patrón de búsqueda en formato regex en el nombre y muestra los resultados. \n",
    "\n",
    "Debe recibir el patrón como parámetro.\n",
    "+ Utiliza un bucle for para recorrer el inventario.\n",
    "+ Utiliza la función más apropiada para buscar coincidencias con el patrón de expresión regular.\n",
    "+ Agrega los productos encontrados a una lista y luego imprime sus detalles.\n",
    "\n",
    "### 8) realizar_compra(self):\n",
    "Permite a un cliente realizar una compra seleccionando productos del inventario.\n",
    "\n",
    "Debe interactuar con el cliente para seleccionar productos y calcular el costo total de la compra.\n",
    "+ Utiliza un bucle while para permitir al cliente realizar múltiples compras.\n",
    "+ Muestra el inventario y solicita al cliente ingresar el nombre del producto que desea comprar.\n",
    "+ Registra los productos seleccionados en un carrito y actualiza el inventario.\n",
    "+ Calcula el costo total de la compra.\n",
    "\n",
    "### 9) procesar_pago(self):\n",
    "Procesa el pago de una compra, calcula el cambio y muestra un mensaje de confirmación.\n",
    "+ Utiliza un bloque try...except para manejar excepciones.\n",
    "+ Solicita al cliente ingresar la cantidad total y la cantidad de pago usando un input.\n",
    "+ Calcula el cambio y muestra un mensaje de pago exitoso o un error en caso de monto insuficiente.\n",
    "\n",
    "### 10) agregar_cliente(self, nombre, email):\n",
    "Agrega un nuevo cliente al registro de clientes.\n",
    "\n",
    "Debe recibir el nombre y el correo electrónico del cliente como parámetros.\n",
    "+ Agrega un cliente al diccionario de clientes con su nombre y correo electrónico.\n",
    "\n",
    "### 11) ver_clientes(self):\n",
    "Muestra la lista de clientes registrados con sus nombres y correos electrónicos.\n",
    "+ Utiliza un bucle for para recorrer la base de datos de clientes.\n",
    "+ Imprime los detalles de cada cliente\n",
    "    \n",
    "        (nombre y correo electrónico).\n",
    "\n",
    "### 12) registrar_compra(self, nombre_cliente, carrito):\n",
    "Registra una compra para un cliente, actualiza las ventas totales y agrega la compra al historial del cliente.\n",
    "\n",
    "Debe recibir el nombre del cliente y el carrito de compras como parámetros.\n",
    "+ Busca al cliente en el diccionario de clientes.\n",
    "+ Si el cliente no esta en el diccionario de clientes, muestra que no se puede realizar la acción por que el cliente no está en el diccionario.\n",
    "Calcula el total de la compra y registra la compra, incluyendo los productos y el total.\n",
    "\n",
    "Ejemplo:\n",
    "    \n",
    "    carrito_cliente1 = {\"Camisa\": {\"precio\": 20, \"cantidad\": 3}}\n",
    "    tienda.registrar_compra(\"Cliente1\", carrito_cliente1)\n",
    "### 13) ver_compras_cliente(self, nombre_cliente): Muestra el historial de compras de un cliente. Debe recibir el nombre del cliente como parámetro.\n",
    "+ Busca al cliente en el diccionario de clientes.\n",
    "+ Muestra las compras realizadas por el cliente, incluyendo detalles de productos y totales.\n",
    "### 13) calcular_ventas_totales(self): Muestra las ventas totales de la tienda.\n",
    "+ Suma los totales de todas las compras realizadas y muestra el total de ventas totales en la tienda.\n",
    "\n",
    "## Instrucciones Adicionales:\n",
    "\n",
    "Debes crear instancias de la \n",
    "\n",
    "    clase TiendaOnline  \n",
    "y probar cada uno de los métodos para demostrar que funcionan correctamente."
   ]
  },
  {
   "cell_type": "code",
   "execution_count": 98,
   "metadata": {},
   "outputs": [],
   "source": [
    "import re"
   ]
  },
  {
   "cell_type": "code",
   "execution_count": 99,
   "metadata": {},
   "outputs": [],
   "source": [
    "class TiendaOnline:\n",
    "    \n",
    "    def __init__(self, inventario, clientes, ventas_totales):\n",
    "        self.inventario = inventario\n",
    "        self.clientes = clientes\n",
    "        self.ventas_totales = float(ventas_totales)\n",
    "        \n",
    "    def agregar_producto (self, nombre, precio, cantidad):\n",
    "             \n",
    "        #el inventario puede estar vacío\n",
    "        if len(self.inventario) == 0:\n",
    "            nuevo_producto = {\"nombre\": nombre, \"precio\": precio, \"cantidad\": cantidad}\n",
    "            self.inventario.append(nuevo_producto)\n",
    "                    \n",
    "        else:\n",
    "            # si lo encuentra la sku en el inventario, añade la cantidad/movimiento de stock\n",
    "            for sku in self.inventario:\n",
    "                if sku[\"nombre\"].lower() == nombre.lower():\n",
    "                    sku[\"cantidad\"] += cantidad\n",
    "                    return self.inventario\n",
    "                \n",
    "                # si no encuentra la sku en el inventario, la añade\n",
    "                else:\n",
    "                    new_sku = {\"nombre\": nombre, \"precio\": precio, \"cantidad\": cantidad}\n",
    "                    self.inventario.append(new_sku)        \n",
    "                    return self.inventario\n",
    "        \n",
    "             \n",
    "    def ver_inventario(self):\n",
    "        \n",
    "        if self.inventario == []:\n",
    "            print(\"WARNING: inventario vacío\")\n",
    "            \n",
    "        else:\n",
    "            for sku in self.inventario:\n",
    "                print(\"Nombre del producto:\", sku[\"nombre\"])\n",
    "                print(\"Precio unitario del producto:\", sku[\"precio\"])\n",
    "                print(\"Cantidad/stock de producto actualizado\", sku[\"cantidad\"])\n",
    "                print(\"-\"*60)\n",
    "    \n",
    "    def buscar_producto(self, nombre):\n",
    "                \n",
    "        for sku in self.inventario:\n",
    "            if sku[\"nombre\"].lower() == nombre.lower():\n",
    "                print(f\"Nombre: {sku['nombre']} , Precio: ${sku['precio']}, Cantidad: {sku['cantidad']}\")\n",
    "                break\n",
    "        #si la sku no está en el inventario, no tiene stock\n",
    "        print(\"El producto no está en el inventario: no se puede actualizar el inventario.\")\n",
    "    \n",
    "    def actualizar_stock(self, nombre, cantidad):\n",
    "           \n",
    "        for sku in self.inventario:\n",
    "            if sku['nombre'] == nombre:\n",
    "                sku['cantidad'] += cantidad\n",
    "                return self.inventario     \n",
    "        \n",
    "        else:\n",
    "            #si la sku no está en el inventario, no tiene stock\n",
    "            print('El producto no está en el inventario: no se puede actualizar inventario.')\n",
    "        \n",
    "        \n",
    "    def eliminar_producto (self, nombre):\n",
    "        \n",
    "        for sku in self.inventario:\n",
    "            if sku[\"nombre\"].lower() == nombre.lower():\n",
    "                self.inventario.remove(sku)\n",
    "                print (f'El producto {nombre} y toda su información ha sido eliminado del inventario.')\n",
    "                break\n",
    "            #si la sku no está en el inventario, no la puedo borrar\n",
    "            print('El producto no está en el inventario: no se puede borrar.')\n",
    "            \n",
    "    def calcular_valor_inventario(self):\n",
    "        \n",
    "        valor_inventario = 0.0\n",
    "        \n",
    "        for sku in self.inventario:\n",
    "            valor_sku = sku['cantidad'] * sku['precio']\n",
    "            valor_inventario += valor_sku\n",
    "\n",
    "        print(f'El valor de nuestro inventario en € es', '{:,}'.format(valor_inventario))\n",
    "\n",
    "    def buscar_producto_regex (self,patron):\n",
    "        self.patron = patron\n",
    "                \n",
    "        for sku in self.inventario:           \n",
    "            # si la sku está en inventario según el nombre, imprimo la información            \n",
    "            re.search(patron,sku['nombre'])\n",
    "            print(f\"Nombre: {sku['nombre']} , Precio: ${sku['precio']}, Cantidad: {sku['cantidad']}\")\n",
    "            break\n",
    "        print('El producto buscado no corresponde con los productos en inventario')\n",
    "    \n",
    "    def realizar_compra(self):\n",
    "        \n",
    "        print(self.inventario['nombre'])\n",
    "            "
   ]
  },
  {
   "cell_type": "code",
   "execution_count": 100,
   "metadata": {},
   "outputs": [],
   "source": [
    "#lista de dicc prodx: [{nombreprod, precioprod, cantidadprod},{...}]\n",
    "rocidrinks_inventario = []\n",
    "#diccionario con {'nombrecli1': {'emailcli1': '@', 'comprascli1':[]}, 'nombrecli2': {'emailcli2': '@', 'comprascli2':[]}, \n",
    "rocidrinks_clientes = {}\n",
    "# inicio con 0.0 (es float)\n",
    "rocidrinks_ventas_totales = 0.0"
   ]
  },
  {
   "cell_type": "code",
   "execution_count": 101,
   "metadata": {},
   "outputs": [],
   "source": [
    "# instanciar la clase\n",
    "rocidrinks = TiendaOnline(rocidrinks_inventario, rocidrinks_clientes, rocidrinks_ventas_totales)"
   ]
  },
  {
   "cell_type": "markdown",
   "metadata": {},
   "source": [
    "2.1 agregar_producto(self, nombre, precio, cantidad)"
   ]
  },
  {
   "cell_type": "code",
   "execution_count": 102,
   "metadata": {},
   "outputs": [
    {
     "data": {
      "text/plain": [
       "[{'nombre': 'MacallanX', 'precio': 1000.99, 'cantidad': 500},\n",
       " {'nombre': 'LariosZ', 'precio': 4.7, 'cantidad': 20000},\n",
       " {'nombre': 'BrugalY', 'precio': 10, 'cantidad': 1500}]"
      ]
     },
     "execution_count": 102,
     "metadata": {},
     "output_type": "execute_result"
    }
   ],
   "source": [
    "rocidrinks_inventario = rocidrinks.agregar_producto(\"MacallanX\", 1000.99, 500)\n",
    "rocidrinks_inventario = rocidrinks.agregar_producto(\"LariosZ\", 4.7, 20000)\n",
    "rocidrinks_inventario = rocidrinks.agregar_producto(\"BrugalY\", 10, 1500)\n",
    "rocidrinks_inventario"
   ]
  },
  {
   "cell_type": "markdown",
   "metadata": {},
   "source": [
    "2.2 ver_inventario(self)"
   ]
  },
  {
   "cell_type": "code",
   "execution_count": 103,
   "metadata": {},
   "outputs": [
    {
     "name": "stdout",
     "output_type": "stream",
     "text": [
      "Nombre del producto: MacallanX\n",
      "Precio unitario del producto: 1000.99\n",
      "Cantidad/stock de producto actualizado 500\n",
      "------------------------------------------------------------\n",
      "Nombre del producto: LariosZ\n",
      "Precio unitario del producto: 4.7\n",
      "Cantidad/stock de producto actualizado 20000\n",
      "------------------------------------------------------------\n",
      "Nombre del producto: BrugalY\n",
      "Precio unitario del producto: 10\n",
      "Cantidad/stock de producto actualizado 1500\n",
      "------------------------------------------------------------\n"
     ]
    }
   ],
   "source": [
    "rocidrinks.ver_inventario()"
   ]
  },
  {
   "cell_type": "markdown",
   "metadata": {},
   "source": [
    "2.3 buscar_producto(self, nombre)"
   ]
  },
  {
   "cell_type": "code",
   "execution_count": 104,
   "metadata": {},
   "outputs": [
    {
     "name": "stdout",
     "output_type": "stream",
     "text": [
      "Nombre: LariosZ , Precio: $4.7, Cantidad: 20000\n",
      "El producto no está en el inventario: no se puede actualizar el inventario.\n"
     ]
    }
   ],
   "source": [
    "rocidrinks.buscar_producto(\"LariosZ\")"
   ]
  },
  {
   "cell_type": "markdown",
   "metadata": {},
   "source": [
    "2.4 actualizar_stock(self, nombre, cantidad)"
   ]
  },
  {
   "cell_type": "code",
   "execution_count": 105,
   "metadata": {},
   "outputs": [
    {
     "data": {
      "text/plain": [
       "[{'nombre': 'MacallanX', 'precio': 1000.99, 'cantidad': 450},\n",
       " {'nombre': 'LariosZ', 'precio': 4.7, 'cantidad': 20000},\n",
       " {'nombre': 'BrugalY', 'precio': 10, 'cantidad': 1500}]"
      ]
     },
     "execution_count": 105,
     "metadata": {},
     "output_type": "execute_result"
    }
   ],
   "source": [
    "rocidrinks.actualizar_stock(\"MacallanX\", -50)"
   ]
  },
  {
   "cell_type": "markdown",
   "metadata": {},
   "source": [
    "2.5 eliminar_producto (self, nombre)"
   ]
  },
  {
   "cell_type": "code",
   "execution_count": 106,
   "metadata": {},
   "outputs": [
    {
     "name": "stdout",
     "output_type": "stream",
     "text": [
      "El producto no está en el inventario: no se puede borrar.\n",
      "El producto LariosZ y toda su información ha sido eliminado del inventario.\n"
     ]
    }
   ],
   "source": [
    "rocidrinks.eliminar_producto('LariosZ')"
   ]
  },
  {
   "cell_type": "markdown",
   "metadata": {},
   "source": [
    "2.6 calcular_valor_inventario(self)"
   ]
  },
  {
   "cell_type": "code",
   "execution_count": 107,
   "metadata": {},
   "outputs": [
    {
     "name": "stdout",
     "output_type": "stream",
     "text": [
      "El valor de nuestro inventario en € es 465,445.5\n"
     ]
    }
   ],
   "source": [
    "rocidrinks.calcular_valor_inventario()"
   ]
  },
  {
   "cell_type": "markdown",
   "metadata": {},
   "source": [
    "2.7 buscar_producto_regex (self, patron)"
   ]
  },
  {
   "cell_type": "code",
   "execution_count": 108,
   "metadata": {},
   "outputs": [
    {
     "data": {
      "text/plain": [
       "[{'nombre': 'MacallanX', 'precio': 1000.99, 'cantidad': 450},\n",
       " {'nombre': 'BrugalY', 'precio': 10, 'cantidad': 1500}]"
      ]
     },
     "execution_count": 108,
     "metadata": {},
     "output_type": "execute_result"
    }
   ],
   "source": [
    "rocidrinks_inventario"
   ]
  },
  {
   "cell_type": "code",
   "execution_count": 109,
   "metadata": {},
   "outputs": [
    {
     "name": "stdout",
     "output_type": "stream",
     "text": [
      "Nombre: MacallanX , Precio: $1000.99, Cantidad: 450\n",
      "El producto buscado no corresponde con los productos en inventario\n"
     ]
    }
   ],
   "source": [
    "rocidrinks.buscar_producto_regex(\"[A-Za-z]\")"
   ]
  }
 ],
 "metadata": {
  "kernelspec": {
   "display_name": "base",
   "language": "python",
   "name": "python3"
  },
  "language_info": {
   "codemirror_mode": {
    "name": "ipython",
    "version": 3
   },
   "file_extension": ".py",
   "mimetype": "text/x-python",
   "name": "python",
   "nbconvert_exporter": "python",
   "pygments_lexer": "ipython3",
   "version": "3.9.7"
  }
 },
 "nbformat": 4,
 "nbformat_minor": 2
}
